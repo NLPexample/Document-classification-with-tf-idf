import os
import pandas as pd
from io import StringIO
import numpy as np
